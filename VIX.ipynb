{
 "cells": [
  {
   "cell_type": "code",
   "execution_count": 132,
   "metadata": {
    "ExecuteTime": {
     "start_time": "2024-04-04T09:52:40.289212Z",
     "end_time": "2024-04-04T09:52:40.301727Z"
    }
   },
   "outputs": [],
   "source": [
    "from typing import Dict, List, Tuple, Union\n",
    "\n",
    "import matplotlib as mpl\n",
    "import matplotlib.pyplot as plt\n",
    "import numpy as np\n",
    "import pandas as pd\n",
    "import seaborn as sns\n",
    "import empyrical as ep\n",
    "from data_service import (get_interpld_shibor, get_shibor_data, prepare_data,\n",
    "                          query_china_shibor_all)\n",
    "from jqdatasdk import *\n",
    "\n",
    "from scr.calc_func import (CVIX, prepare_data2calc, get_n_next_ret,\n",
    "                           get_quantreg_res,create_quantile_bound)\n",
    "\n",
    "from scr.plotting import (plot_group_ret, plot_hist2d, plot_indicator,\n",
    "                          plot_quantreg_res)\n",
    "\n",
    "from scr.utils import load_csv\n",
    "# 设置字体 用来正常显示中文标签\n",
    "mpl.rcParams['font.sans-serif'] = ['SimHei']\n",
    "#mpl.rcParams['font.family'] = 'serif'\n",
    "# 用来正常显示负号\n",
    "mpl.rcParams['axes.unicode_minus'] = False\n"
   ]
  },
  {
   "cell_type": "code",
   "execution_count": 161,
   "outputs": [
    {
     "name": "stdout",
     "output_type": "stream",
     "text": [
      "auth success \n"
     ]
    }
   ],
   "source": [
    "# from jqdatasdk import *\n",
    "# auth(\"18746950003\",\"Asdlkj0011\")"
   ],
   "metadata": {
    "collapsed": false,
    "ExecuteTime": {
     "start_time": "2024-04-06T13:20:58.398360Z",
     "end_time": "2024-04-06T13:20:58.570668Z"
    }
   }
  },
  {
   "cell_type": "markdown",
   "metadata": {},
   "source": [
    "算法代码可参考：\n",
    ">《20180707_东北证券_金融工程_市场波动风险度量：vix与skew指数构建与应用》"
   ]
  },
  {
   "cell_type": "markdown",
   "source": [
    "---"
   ],
   "metadata": {
    "collapsed": false
   }
  },
  {
   "cell_type": "code",
   "execution_count": 179,
   "metadata": {
    "ExecuteTime": {
     "start_time": "2024-04-06T15:09:35.236533Z",
     "end_time": "2024-04-06T15:09:35.547566Z"
    }
   },
   "outputs": [],
   "source": [
    "# # # 数据获取\n",
    "# start, end = '2021-01-01', '2023-12-31'\n",
    "# # # opt_data = prepare_data('510050.XSHG', start, end)  # 上证etf50\n",
    "# # # opt_data = prepare_data('000300.XSHG', start, end)  # 沪深300 CCFX  000300.XSHG\n",
    "# # # opt_data = prepare_data('000016.XSHG', start, end) # 上证50—CCFX 000016.XSHG\n",
    "# # # opt_data = prepare_data('000852.XSHG', start, end) # 中证1000 CCFX 000852.XSHG\n",
    "# #\n",
    "# # # # opt_data = pd.read_csv('.csv')\n",
    "# shibor_df = get_shibor_data(start, end)\n",
    "# # #\n",
    "# # # # 插值\n",
    "# interpld_shibor = get_interpld_shibor(shibor_df)"
   ]
  },
  {
   "cell_type": "code",
   "execution_count": 180,
   "metadata": {
    "ExecuteTime": {
     "start_time": "2024-04-06T15:09:37.147906Z",
     "end_time": "2024-04-06T15:09:37.525248Z"
    }
   },
   "outputs": [],
   "source": [
    "# # # # 数据储存\n",
    "# # # opt_data.to_csv(r'./Data/opt_data_zz1000.csv')\n",
    "# interpld_shibor.to_csv(r'./Data/interpld_shibor_sz50etf.csv')"
   ]
  },
  {
   "cell_type": "markdown",
   "source": [
    "---"
   ],
   "metadata": {
    "collapsed": false
   }
  },
  {
   "cell_type": "markdown",
   "source": [
    "# 数据已经获取完毕 可直接读取"
   ],
   "metadata": {
    "collapsed": false
   }
  },
  {
   "cell_type": "code",
   "execution_count": 197,
   "metadata": {
    "ExecuteTime": {
     "start_time": "2024-04-06T15:26:39.736365Z",
     "end_time": "2024-04-06T15:26:40.015507Z"
    }
   },
   "outputs": [],
   "source": [
    "# 数据读取 hs300 sz50  sz50etf zz1000\n",
    "opt_data: pd.DataFrame = pd.read_csv(r'Data/opt_data_hs300.csv',\n",
    "                                     index_col=[0],\n",
    "                                     parse_dates=['date'])\n",
    "\n",
    "interpld_shibor: pd.DataFrame = pd.read_csv(r'Data/interpld_shibor_hs300.csv',\n",
    "                                            index_col=[0],\n",
    "                                            parse_dates=True)\n",
    "\n",
    "interpld_shibor.columns = list(map(int, interpld_shibor.columns))\n"
   ]
  },
  {
   "cell_type": "code",
   "execution_count": 198,
   "metadata": {
    "ExecuteTime": {
     "start_time": "2024-04-06T15:26:42.129274Z",
     "end_time": "2024-04-06T15:26:43.479295Z"
    }
   },
   "outputs": [],
   "source": [
    "# 前期数据整理\n",
    "data_all = prepare_data2calc(opt_data, interpld_shibor)"
   ]
  },
  {
   "cell_type": "code",
   "execution_count": 199,
   "metadata": {
    "ExecuteTime": {
     "start_time": "2024-04-06T15:26:46.011678Z",
     "end_time": "2024-04-06T15:26:46.062410Z"
    }
   },
   "outputs": [],
   "source": [
    "# 加载模块\n",
    "vix_func = CVIX(data_all)"
   ]
  },
  {
   "cell_type": "code",
   "execution_count": 200,
   "metadata": {
    "ExecuteTime": {
     "start_time": "2024-04-06T15:26:55.449430Z",
     "end_time": "2024-04-06T15:27:20.694274Z"
    }
   },
   "outputs": [],
   "source": [
    "# 计算vix\n",
    "vix: pd.Series = vix_func.vix()\n",
    "vix.to_csv('hs300_vix.csv')  # sz50  sz50etf zz1000\n",
    "\n",
    "# 计算skew\n",
    "skew: pd.Series = vix_func.skew()\n",
    "skew.to_csv('hs300_skew.csv') # sz50  sz50etf zz1000"
   ]
  },
  {
   "cell_type": "code",
   "execution_count": null,
   "outputs": [],
   "source": [],
   "metadata": {
    "collapsed": false
   }
  }
 ],
 "metadata": {
  "interpreter": {
   "hash": "49cb93f377a7abe7414b7b0f21fb3017538004a126cf690fb524202736b7fb92"
  },
  "kernelspec": {
   "display_name": "Python 3.8.8 ('base')",
   "language": "python",
   "name": "python3"
  },
  "language_info": {
   "codemirror_mode": {
    "name": "ipython",
    "version": 3
   },
   "file_extension": ".py",
   "mimetype": "text/x-python",
   "name": "python",
   "nbconvert_exporter": "python",
   "pygments_lexer": "ipython3",
   "version": "3.9.7"
  },
  "orig_nbformat": 4
 },
 "nbformat": 4,
 "nbformat_minor": 2
}
